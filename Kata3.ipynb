{
 "cells": [
  {
   "cell_type": "markdown",
   "metadata": {},
   "source": [
    "# Ejercicio"
   ]
  },
  {
   "cell_type": "markdown",
   "metadata": {},
   "source": [
    "Para este ejercicio, escribirás una lógica condicional que imprima una advertencia si un asteroide se acerca a la Tierra demasiado rápido. La velocidad del asteroide varía dependiendo de lo cerca que esté del sol, y cualquier velocidad superior a 25 kilómetros por segundo (km/s) merece una advertencia.\n",
    "\n",
    "Un asteroide se acerca, y viaja a una velocidad de 49 km/s."
   ]
  },
  {
   "cell_type": "code",
   "execution_count": 6,
   "metadata": {},
   "outputs": [
    {
     "name": "stdout",
     "output_type": "stream",
     "text": [
      "Todo bajo control\n"
     ]
    }
   ],
   "source": [
    "velocidad = input(\"Hola\")\n",
    "\n",
    "if int(velocidad) > 25:\n",
    "    print(\"ADVERTENCIA!!  \\nUn asteroide se acerca a la Tierra demasiado rápido\")\n",
    "else:\n",
    "    print(\"Todo bajo control\")"
   ]
  },
  {
   "cell_type": "markdown",
   "metadata": {},
   "source": [
    "Si un asteroide entra en la atmósfera de la Tierra a una velocidad mayor o igual a 20 km/s, a veces produce un rayo de luz que se puede ver desde la Tierra. Escribe la lógica condicional que usa declaraciones if, else, y elif para alertar a las personas de todo el mundo que deben buscar un asteroide en el cielo. ¡Hay uno que se dirige a la tierra ahora a una velocidad de 19 km/s!"
   ]
  },
  {
   "cell_type": "code",
   "execution_count": 9,
   "metadata": {},
   "outputs": [
    {
     "name": "stdout",
     "output_type": "stream",
     "text": [
      "Entro un asteroide a la tierra pero no produjo un rayo de luz!!\n",
      "CORRE!!\n"
     ]
    }
   ],
   "source": [
    "velocidad = 19\n",
    "\n",
    "if velocidad >= 20:\n",
    "    print(\"Busquen un rayo de luz en el cielo!! \\nUn asteroide acaba de entrar a la tierra \\n BUSCALO!\")\n",
    "elif velocidad < 20:\n",
    "    print(\"Entro un asteroide a la tierra pero no produjo un rayo de luz!!\\nCORRE!!\")\n",
    "else:\n",
    "    print(\"Todo bien\")\n"
   ]
  },
  {
   "cell_type": "markdown",
   "metadata": {},
   "source": [
    "Escribe un programa que emita la advertencia o información correcta a la gente de la Tierra, según la velocidad y el tamaño de un asteroide. Utiliza instrucciones `if`, `else`, y `elif`, así como los operadores `and` y `or` ."
   ]
  },
  {
   "cell_type": "code",
   "execution_count": 11,
   "metadata": {},
   "outputs": [
    {
     "name": "stdout",
     "output_type": "stream",
     "text": [
      "Busquen un rayo de luz en el cielo!! \n",
      "Un asteroide acaba de entrar a la tierra \n",
      " BUSCALO!\n",
      "Reza\n"
     ]
    }
   ],
   "source": [
    "velAsteroide = 25\n",
    "tamano = input(\"Ingrese la dimension del asteroide\")\n",
    "\n",
    "if velAsteroide > 25:\n",
    "    print(\"ADVERTENCIA!!  \\nUn asteroide se acerca a la Tierra demasiado rápid\")\n",
    "elif velAsteroide >= 20:\n",
    "    print(\"Busquen un rayo de luz en el cielo!! \\nUn asteroide acaba de entrar a la tierra \\n BUSCALO!\")\n",
    "\n",
    "if int(tamano) < 25:\n",
    "    print(\"Un asteroide entro a la tierra pero probablemente se quemarán a medida que entren en la atmósfera \\nTranquilo\")\n",
    "elif int(tamano) > 25 and int(tamano) < 1000:\n",
    "    print(\"Un asteroide entro a la tierra y probablemente causara mucho daño\")\n",
    "elif int(tamano) >= 1000:\n",
    "    print(\"Reza\")"
   ]
  }
 ],
 "metadata": {
  "interpreter": {
   "hash": "b2991637ab0369c5ba4195e6bd2fa35a9b1904c8110fcf7a977614a65b5932d6"
  },
  "kernelspec": {
   "display_name": "Python 3.10.2 64-bit (windows store)",
   "language": "python",
   "name": "python3"
  },
  "language_info": {
   "codemirror_mode": {
    "name": "ipython",
    "version": 3
   },
   "file_extension": ".py",
   "mimetype": "text/x-python",
   "name": "python",
   "nbconvert_exporter": "python",
   "pygments_lexer": "ipython3",
   "version": "3.10.2"
  },
  "orig_nbformat": 4
 },
 "nbformat": 4,
 "nbformat_minor": 2
}
