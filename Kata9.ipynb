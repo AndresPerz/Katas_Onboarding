{
 "cells": [
  {
   "cell_type": "markdown",
   "metadata": {},
   "source": [
    "## Ejercicio 1: Trabajar con argumentos en funciones"
   ]
  },
  {
   "cell_type": "code",
   "execution_count": 29,
   "metadata": {},
   "outputs": [],
   "source": [
    "def combustible(tanque1, tanque2, tanque3):\n",
    "    promedio = (tanque1 + tanque2 + tanque3)/3\n",
    "\n",
    "    return f\"El promedio de combustible en los 3 tanques es de {promedio}\"\n",
    "    "
   ]
  },
  {
   "cell_type": "code",
   "execution_count": 30,
   "metadata": {},
   "outputs": [
    {
     "name": "stdout",
     "output_type": "stream",
     "text": [
      "El promedio de combustible en los 3 tanques es de 21.666666666666668\n"
     ]
    }
   ],
   "source": [
    "print(combustible(3, 24, 38))"
   ]
  },
  {
   "cell_type": "code",
   "execution_count": 31,
   "metadata": {},
   "outputs": [
    {
     "data": {
      "text/plain": [
       "21.666666666666668"
      ]
     },
     "execution_count": 31,
     "metadata": {},
     "output_type": "execute_result"
    }
   ],
   "source": [
    "def promedio(values):\n",
    "     promedio = sum(values)/len(values)\n",
    "     return promedio\n",
    "\n",
    "promedio([3, 24, 38])"
   ]
  },
  {
   "cell_type": "code",
   "execution_count": 39,
   "metadata": {},
   "outputs": [],
   "source": [
    "def combustible(tanque1, tanque2, tanque3):\n",
    "    \n",
    "    return f\"El promedio de combustible en los 3 tanques es de {round(promedio([tanque1,tanque2,tanque3]))}\""
   ]
  },
  {
   "cell_type": "code",
   "execution_count": 40,
   "metadata": {},
   "outputs": [
    {
     "name": "stdout",
     "output_type": "stream",
     "text": [
      "El promedio de combustible en los 3 tanques es de 22\n"
     ]
    }
   ],
   "source": [
    "print(combustible(3,24,38))"
   ]
  },
  {
   "cell_type": "markdown",
   "metadata": {},
   "source": [
    "## Ejercicio 2: Trabajo con argumentos de palabra clave"
   ]
  },
  {
   "cell_type": "code",
   "execution_count": 41,
   "metadata": {},
   "outputs": [
    {
     "name": "stdout",
     "output_type": "stream",
     "text": [
      "\n",
      "    hora de vuelo: 14 \n",
      "    Destino: Moon\n",
      "    Tiempo total de viaje: 65 minutos\n",
      "    Combustible total restante: 500000 galones\n",
      "    \n"
     ]
    }
   ],
   "source": [
    "def informe(hora,vuelo,destino,tanque_ex,tanque_int):\n",
    "    return f\"\"\"\n",
    "     \n",
    "    Destino: {destino}\n",
    "    Tiempo total de viaje: {hora + vuelo} minutos\n",
    "    Combustible total restante: {tanque_ex + tanque_int} galones\n",
    "    \"\"\" \n",
    "print(informe(14, 51, \"Moon\", 200000, 300000))"
   ]
  },
  {
   "cell_type": "code",
   "execution_count": 43,
   "metadata": {},
   "outputs": [
    {
     "name": "stdout",
     "output_type": "stream",
     "text": [
      "\n",
      "    Destino Moon\n",
      "    Tiempo total de viaje: 76 minutos\n",
      "    Combustible total restante: 500000 galones\n",
      "    Principal tanque --> 300000 gallons left\n",
      "externo tanque --> 200000 gallons left\n",
      "\n"
     ]
    }
   ],
   "source": [
    "def informe(destino, *minutos, **tanques):\n",
    "    reporte =  f\"\"\"\n",
    "    Destino {destino}\n",
    "    Tiempo total de viaje: {sum(minutos)} minutos\n",
    "    Combustible total restante: {sum(tanques.values())} galones\n",
    "    \"\"\"\n",
    "\n",
    "    for tank_name, gallons in tanques.items():\n",
    "        reporte += f\"{tank_name} tanque --> {gallons} galones restantes\\n\"\n",
    "    return reporte\n",
    "\n",
    "print(informe(\"Moon\", 10, 15, 51, Principal=300000, externo=200000))\n"
   ]
  }
 ],
 "metadata": {
  "interpreter": {
   "hash": "35c4bcfff6bb594ff47b51ce5b21bcb1093d06fa0c5debe7002e3be5d50f4cc1"
  },
  "kernelspec": {
   "display_name": "Python 3.10.2 64-bit",
   "language": "python",
   "name": "python3"
  },
  "language_info": {
   "codemirror_mode": {
    "name": "ipython",
    "version": 3
   },
   "file_extension": ".py",
   "mimetype": "text/x-python",
   "name": "python",
   "nbconvert_exporter": "python",
   "pygments_lexer": "ipython3",
   "version": "3.10.2"
  },
  "orig_nbformat": 4
 },
 "nbformat": 4,
 "nbformat_minor": 2
}
